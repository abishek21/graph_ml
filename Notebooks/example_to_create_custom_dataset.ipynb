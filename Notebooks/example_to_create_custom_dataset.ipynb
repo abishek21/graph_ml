{
 "cells": [
  {
   "cell_type": "code",
   "execution_count": 38,
   "id": "ff9b1f1b",
   "metadata": {},
   "outputs": [],
   "source": [
    "from spektral.data import Dataset\n",
    "from spektral.data.graph import Graph\n",
    "import os\n",
    "import random as rand\n",
    "from random import randint\n",
    "from numpy.random import rand,randint\n",
    "import numpy as np"
   ]
  },
  {
   "cell_type": "code",
   "execution_count": 39,
   "id": "91154b6e",
   "metadata": {},
   "outputs": [],
   "source": [
    "class MyDataset(Dataset):\n",
    "    \"\"\"\n",
    "    A dataset of five random graphs.\n",
    "    \"\"\"\n",
    "    def __init__(self, nodes, feats,path_dir,**kwargs):\n",
    "        self.nodes = nodes\n",
    "        self.feats = feats\n",
    "        self.path_dir=path_dir\n",
    "\n",
    "        super().__init__(**kwargs)\n",
    "        \n",
    "    def download(self):\n",
    "        #data = ...  # Download from somewhere\n",
    "\n",
    "        # Create the directory\n",
    "        os.makedirs(self.path_dir,exist_ok=True)\n",
    "\n",
    "        # Write the data to file\n",
    "        for i in range(5):\n",
    "            x = rand(self.nodes, self.feats)\n",
    "            a = randint(0, 2, (self.nodes, self.nodes))\n",
    "            y = randint(0, 2)\n",
    "\n",
    "            filename = os.path.join(self.path_dir, f'graph_{i}')\n",
    "            np.savez(filename, x=x, a=a, y=y)\n",
    "            \n",
    "    def read(self):\n",
    "        # We must return a list of Graph objects\n",
    "        output = []\n",
    "\n",
    "        for i in range(5):\n",
    "            data = np.load(os.path.join(self.path_dir, f'graph_{i}.npz'))\n",
    "            output.append(\n",
    "                Graph(x=data['x'], a=data['a'], y=data['y'])\n",
    "            )\n",
    "\n",
    "        return output"
   ]
  },
  {
   "cell_type": "code",
   "execution_count": 40,
   "id": "dc73b746",
   "metadata": {},
   "outputs": [],
   "source": [
    "dataset = MyDataset(3, 2,'/Users/abishek/Desktop/Abishek/graph_ml/data/custom_data')"
   ]
  },
  {
   "cell_type": "code",
   "execution_count": 41,
   "id": "ecefe6f4",
   "metadata": {},
   "outputs": [
    {
     "data": {
      "text/plain": [
       "MyDataset(n_graphs=5)"
      ]
     },
     "execution_count": 41,
     "metadata": {},
     "output_type": "execute_result"
    }
   ],
   "source": [
    "dataset"
   ]
  },
  {
   "cell_type": "code",
   "execution_count": 42,
   "id": "400e9f72",
   "metadata": {},
   "outputs": [
    {
     "data": {
      "text/plain": [
       "Graph(n_nodes=3, n_node_features=2, n_edge_features=None, n_labels=1)"
      ]
     },
     "execution_count": 42,
     "metadata": {},
     "output_type": "execute_result"
    }
   ],
   "source": [
    "dataset[0]"
   ]
  },
  {
   "cell_type": "code",
   "execution_count": 43,
   "id": "7e2899cd",
   "metadata": {},
   "outputs": [
    {
     "data": {
      "text/plain": [
       "array([[0.06170705, 0.07230199],\n",
       "       [0.56680512, 0.49616605],\n",
       "       [0.50367879, 0.44736271]])"
      ]
     },
     "execution_count": 43,
     "metadata": {},
     "output_type": "execute_result"
    }
   ],
   "source": [
    "dataset[0].x"
   ]
  },
  {
   "cell_type": "code",
   "execution_count": 44,
   "id": "91c5e08c",
   "metadata": {},
   "outputs": [
    {
     "data": {
      "text/plain": [
       "array([[1, 1, 0],\n",
       "       [1, 1, 0],\n",
       "       [0, 0, 1]])"
      ]
     },
     "execution_count": 44,
     "metadata": {},
     "output_type": "execute_result"
    }
   ],
   "source": [
    "dataset[0].a"
   ]
  },
  {
   "cell_type": "code",
   "execution_count": 45,
   "id": "91ab28bb",
   "metadata": {},
   "outputs": [
    {
     "data": {
      "text/plain": [
       "array(1)"
      ]
     },
     "execution_count": 45,
     "metadata": {},
     "output_type": "execute_result"
    }
   ],
   "source": [
    "dataset[0].y"
   ]
  },
  {
   "cell_type": "code",
   "execution_count": null,
   "id": "187963df",
   "metadata": {},
   "outputs": [],
   "source": []
  }
 ],
 "metadata": {
  "kernelspec": {
   "display_name": "Python 3 (ipykernel)",
   "language": "python",
   "name": "python3"
  },
  "language_info": {
   "codemirror_mode": {
    "name": "ipython",
    "version": 3
   },
   "file_extension": ".py",
   "mimetype": "text/x-python",
   "name": "python",
   "nbconvert_exporter": "python",
   "pygments_lexer": "ipython3",
   "version": "3.8.5"
  }
 },
 "nbformat": 4,
 "nbformat_minor": 5
}
